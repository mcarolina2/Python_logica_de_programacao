{
 "cells": [
  {
   "cell_type": "markdown",
   "metadata": {},
   "source": [
    "# Exercícios\n",
    "\n",
    "## Estruturas de Controle\n",
    "\n"
   ]
  },
  {
   "cell_type": "markdown",
   "metadata": {},
   "source": [
    "1 - Faça um programa que verifique se uma letra digitada é \"F\" ou \"M\". Conforme a letra, a saída deve imprimir: F - Feminino, M - Masculino e sexo inválido para outros casos."
   ]
  },
  {
   "cell_type": "code",
   "execution_count": 42,
   "metadata": {},
   "outputs": [],
   "source": [
    "se = str(input(\"Qual o sexo ?\"))\n",
    "\n",
    "if se == \"F\":\n",
    "    print(f\"Olá você digitou {se} e você é do sexo Feminino\")\n",
    "elif se == \"M\":\n",
    "    print(f\"Olá você digitou {se} e você é do sexo Masculino\")\n",
    "else:\n",
    "    print(f\"Olá você digitou {se} e isso é um sexo inválido\")\n",
    "    "
   ]
  },
  {
   "cell_type": "markdown",
   "metadata": {},
   "source": [
    "2 - Faça um programa que pergunte o preço de três produtos e informe qual produto você deve comprar, sabendo que a decisão é sempre pelo mais barato."
   ]
  },
  {
   "cell_type": "code",
   "execution_count": null,
   "metadata": {},
   "outputs": [
    {
     "name": "stdout",
     "output_type": "stream",
     "text": [
      "Você deve comprar o Produto 1 que custa R$40.00.\n"
     ]
    }
   ],
   "source": [
    "produto1 = float(input(\"Qual o preço do produto 1 ? \"))\n",
    "produto2 = float(input(\"Qual o preço do produto 2 ? \"))\n",
    "produto3 = float(input(\"Qual o preço do produto 3 ? \"))\n",
    "\n",
    "if produto1 < produto2 and produto1 < produto3:\n",
    "    produto_mais_barato = \"Produto 1\"\n",
    "    preco_mais_barato = produto1\n",
    "elif produto2 < produto1 and produto2 < produto3:\n",
    "    produto_mais_barato = \"Produto 2\"\n",
    "    preco_mais_barato = produto2\n",
    "else:\n",
    "    produto_mais_barato = \"Produto 3\"\n",
    "    preco_mais_barato = produto3\n",
    "\n",
    "# Mostra qual produto é o mais barato\n",
    "print(f\"Você deve comprar o {produto_mais_barato} que custa R${preco_mais_barato:.2f}\")"
   ]
  },
  {
   "cell_type": "markdown",
   "metadata": {},
   "source": [
    "3 - Faça um programa que peça as 4 notas bimestrais de um aluno, mostre a média e apresente as seguintes mensagens:\n",
    "- \"Aprovado\", se a média alcançada for maior ou igual a sete;\n",
    "- \"Reprovado\", se a média for menor do que sete;\n",
    "- \"Prova Final\", se a média for entre 4 e 6.9;\n",
    "- \"Aprovado com Distinção\", se a média for igual a dez.\n",
    "\n",
    "Desenvolva três versões do programa usando: \n",
    "  - a) apenas a estrutura `if-else` \n",
    "  - b) apenas com estrutura `if-elif-else`\n",
    "  - c) estruturas `if-else` agrupadas."
   ]
  },
  {
   "cell_type": "code",
   "execution_count": null,
   "metadata": {},
   "outputs": [
    {
     "name": "stdout",
     "output_type": "stream",
     "text": [
      "Prova final ,com a média 6.25\n"
     ]
    }
   ],
   "source": [
    "# Versão (a)\n",
    "\n",
    "nota1 = float(input(\"Dgitite a primeira nota: \")) \n",
    "nota2 = float(input(\"Dgitite a segunda nota: \")) \n",
    "nota3 = float(input(\"Dgitite a terceira nota: \")) \n",
    "nota4 = float(input(\"Dgitite a quarta nota: \")) \n",
    "\n",
    "media = (nota1 + nota2 + nota3 + nota4)/ 4 \n",
    "\n",
    "if media == 10:\n",
    "    print(f\"Arovado com distinção , com a média {media}\")\n",
    "if media >= 7 and media < 10:\n",
    "    print(f\"Arovado ,com a média {media}\")\n",
    "if media >= 4 and media<= 6.9:\n",
    "    print(f\"Prova final ,com a média {media}\")\n",
    "else:\n",
    "    print(f\"Reprovado ,com a média {media}\")"
   ]
  },
  {
   "cell_type": "code",
   "execution_count": null,
   "metadata": {},
   "outputs": [],
   "source": [
    "# Versão (b)\n",
    "\n",
    "nota1 = float(input(\"Dgitite a primeira nota: \")) \n",
    "nota2 = float(input(\"Dgitite a segunda nota: \")) \n",
    "nota3 = float(input(\"Dgitite a terceira nota: \")) \n",
    "nota4 = float(input(\"Dgitite a quarta nota: \")) \n",
    "\n",
    "media = (nota1 + nota2 + nota3 + nota4)/ 4 \n",
    "\n",
    "if media == 10:\n",
    "    print(f\"Arovado com distinção , com a média {media}\")\n",
    "elif media >= 7 and media < 10:\n",
    "    print(f\"Arovado ,com a média {media}\")\n",
    "elif media >= 4 and media<= 6.9:\n",
    "    print(f\"Prova final ,com a média {media}\")\n",
    "else:\n",
    "    print(f\"Reprovado ,com a média {media}\")\n",
    "\n"
   ]
  },
  {
   "cell_type": "code",
   "execution_count": null,
   "metadata": {},
   "outputs": [],
   "source": [
    "# Versão (c)\n",
    "\n",
    "nota1 = float(input(\"Dgitite a primeira nota: \")) \n",
    "nota2 = float(input(\"Dgitite a segunda nota: \")) \n",
    "nota3 = float(input(\"Dgitite a terceira nota: \")) \n",
    "nota4 = float(input(\"Dgitite a quarta nota: \")) \n",
    "\n",
    "media = (nota1 + nota2 + nota3 + nota4)/ 4 \n",
    "\n",
    "if media == 10:\n",
    "    print(f\"Arovado com distinção , com a média {media}\")\n",
    "if media >= 7 and media < 10:\n",
    "    print(f\"Arovado ,com a média {media}\")\n",
    "if media >= 4 and media<= 6.9:\n",
    "    print(f\"Prova final ,com a média {media}\")\n",
    "else:\n",
    "    print(f\"Reprovado ,com a média {media}\")\n"
   ]
  },
  {
   "cell_type": "markdown",
   "metadata": {},
   "source": [
    "4 - Tendo como dados de entrada a altura e o peso de uma pessoa, construa um algoritmo que calcule um intervalo de peso ideal e informe se ela está dentro, acima ou abaixo do peso. Dica: use a fórmula do Índice de Massa Corporal (IMC), considerando o estrato _eutrófico_ como referência para as estimativas."
   ]
  },
  {
   "cell_type": "code",
   "execution_count": null,
   "metadata": {},
   "outputs": [],
   "source": [
    "nome = str(input(\"Qual o seu nome ?\"))\n",
    "altura = int(input(\"Qual a sua altura (Em CM) ?\"))\n",
    "peso = str(input(\"Qual o seu peso ?\"))\n",
    "\n",
    "imc = peso / (altura ** 2)\n",
    "\n",
    "peso_ideal_minimo = 18.5 * (altura ** 2)\n",
    "peso_ideal_maximo = 24.9 * (altura ** 2)\n",
    "\n",
    "# Verifica se o peso está dentro, acima ou abaixo do peso ideal\n",
    "if peso < peso_ideal_minimo:\n",
    "    print(\"Abaixo do peso ideal.\")\n",
    "elif peso >= peso_ideal_minimo and peso <= peso_ideal_maximo:\n",
    "    print(\"Dentro do peso ideal.\")\n",
    "else:\n",
    "    print(\"Acima do peso ideal.\")\n"
   ]
  },
  {
   "cell_type": "markdown",
   "metadata": {},
   "source": [
    "5 - Faça um programa que calcule as raízes de uma equação do segundo grau, na forma ax2 + bx + c. O programa deverá pedir os valores de a, b e c e fazer as consistências, informando ao usuário nas seguintes situações:\n",
    "\n",
    "- Se o usuário informar o valor de A igual a zero, a equação não é do segundo grau e o programa não deve fazer pedir os demais valores, sendo encerrado;\n",
    "\n",
    "- Se o delta calculado for negativo, a equação não possui raízes reais. Informe ao usuário e encerre o programa;\n",
    "\n",
    "- Se o delta calculado for igual a zero a equação possui apenas uma raiz real; informe-a ao usuário;\n",
    "\n",
    "- Se o delta for positivo, a equação possui duas raiz reais; informe-as ao usuário;"
   ]
  },
  {
   "cell_type": "code",
   "execution_count": 5,
   "metadata": {},
   "outputs": [
    {
     "name": "stdout",
     "output_type": "stream",
     "text": [
      "Delta positivo existem 2 raízes são elas 3.0 e 2.0\n"
     ]
    }
   ],
   "source": [
    "a = float(input(\"Qual o valor de a ?\"))\n",
    "if a == 0 :\n",
    "    print(\"FIM!!! você informou que a é igual a zero ,logo essa equação não é do segundo grau\")\n",
    "else:\n",
    "    b = float(input(\"Qual o valor de b ?\"))\n",
    "    c = float(input(\"Qual o valor de c ?\"))\n",
    "\n",
    "    delta = b**2 - 4*a*c\n",
    "    if delta < 0: \n",
    "        print(\"A equação não possui raízes reais. encerrando o programa!!!!\")\n",
    "    elif delta == 0 :\n",
    "        raiz = -b / (2*a)\n",
    "        print(\"Delta igual a zero existe somente uma raiz e o valor dela é {raiz} \")\n",
    "    else:\n",
    "        raiz1 = (-b + delta**0.5) / (2*a)\n",
    "        raiz2 = (-b - delta**0.5) / (2*a)\n",
    "        print(f\"Delta positivo existem 2 raízes são elas {raiz1} e {raiz2}\")"
   ]
  },
  {
   "cell_type": "markdown",
   "metadata": {},
   "source": [
    "6 - Faça um programa para um caixa eletrônico. O programa deverá perguntar ao usuário a valor do saque e depois informar quantas notas de cada valor serão fornecidas. As notas disponíveis serão as de 1, 5, 10, 50 e 100 reais. O valor mínimo é de 10 reais e o máximo de 600 reais. O programa não deve se preocupar com a quantidade de notas existentes na máquina.\n",
    "\n",
    "- Exemplo 1: Para sacar a quantia de 256 reais, o programa fornece duas notas de 100, uma nota de 50, uma nota de 5 e uma nota de 1;\n",
    "\n",
    "- Exemplo 2: Para sacar a quantia de 399 reais, o programa fornece três notas de 100, uma nota de 50, quatro notas de 10, uma nota de 5 e quatro notas de 1."
   ]
  },
  {
   "cell_type": "code",
   "execution_count": 13,
   "metadata": {},
   "outputs": [
    {
     "name": "stdout",
     "output_type": "stream",
     "text": [
      "Valor inválido. O valor do saque deve estar entre 10 e 600 reais.\n"
     ]
    }
   ],
   "source": [
    "valor_saque = int(input(\"Qual o valor você deseja sacar (entre 10 e 600 reais): \"))\n",
    "if valor_saque < 10 or valor_saque > 600: \n",
    "   print(\"Valor inválido. O valor do saque deve estar entre 10 e 600 reais.\")\n",
    "else:\n",
    "    notas = [100, 50, 10, 5, 1]\n",
    "    quan_notas = [0, 0, 0, 0, 0]\n",
    "\n",
    "    if valor_saque >= 100:\n",
    "        quan_notas[0] = valor_saque // 100\n",
    "        valor_saque %= 100\n",
    "    if valor_saque >= 50:\n",
    "        quan_notas[1] = valor_saque // 50\n",
    "        valor_saque %= 50\n",
    "    if valor_saque >= 10:\n",
    "        quan_notas[2] = valor_saque // 10\n",
    "        valor_saque %= 10\n",
    "    if valor_saque >= 5:\n",
    "        quan_notas[3] = valor_saque // 5\n",
    "        valor_saque %= 5\n",
    "    if valor_saque >= 1:\n",
    "        quan_notas[4] = valor_saque // 1\n",
    "    \n",
    "        print(\"Notas fornecidas:\")\n",
    "    if quan_notas[0] > 0:\n",
    "        print(f\"{quan_notas[0]} nota(s) de 100 reais.\")\n",
    "    if quan_notas[1] > 0:\n",
    "        print(f\"{quan_notas[1]} nota(s) de 50 reais.\")\n",
    "    if quan_notas[2] > 0:\n",
    "        print(f\"{quan_notas[2]} nota(s) de 10 reais.\")\n",
    "    if quan_notas[3] > 0:\n",
    "        print(f\"{quan_notas[3]} nota(s) de 5 reais.\")\n",
    "    if quan_notas[4] > 0:\n",
    "        print(f\"{quan_notas[4]} nota(s) de 1 real.\")\n",
    "\n"
   ]
  },
  {
   "cell_type": "markdown",
   "metadata": {},
   "source": [
    "7 - Faça um programa que solicite três números. Processe os dados e mostre os números em ordem decrescente."
   ]
  },
  {
   "cell_type": "code",
   "execution_count": null,
   "metadata": {},
   "outputs": [
    {
     "name": "stdout",
     "output_type": "stream",
     "text": [
      "Números em ordem decrescente: 3.0 2.0 1.0\n"
     ]
    }
   ],
   "source": [
    "num1 = float(input(\"Qual é o número 1\"))\n",
    "num2 = float(input(\"Qual é o número 2\"))\n",
    "num3 = float(input(\"Qual é o número 3\"))\n",
    "\n",
    "if num1 >= num2 and num1 >= num3:\n",
    "    maior = num1\n",
    "    if num2 >= num3:\n",
    "        meio = num2\n",
    "        menor = num3\n",
    "    else:\n",
    "        meio = num3\n",
    "        menor = num2\n",
    "elif num2 >= num1 and num2 >= num3:\n",
    "    maior = num2\n",
    "    if num1 >= num3:\n",
    "        meio = num1\n",
    "        menor = num3\n",
    "    else:\n",
    "        meio = num3\n",
    "        menor = num1\n",
    "else:\n",
    "    maior = num3\n",
    "    if num1 >= num2:\n",
    "        meio = num1\n",
    "        menor = num2\n",
    "    else:\n",
    "        meio = num2\n",
    "        menor = num1\n",
    "\n",
    "# Exibe os números em ordem decrescente\n",
    "print(\"Números em ordem decrescente:\", maior, meio, menor)"
   ]
  },
  {
   "cell_type": "markdown",
   "metadata": {},
   "source": [
    "8 - Faça um programa para uma loja de tintas. O programa deverá pedir o tamanho da área a ser pintada (metros quadrados). Considere que a cobertura da tinta é de 1 litro para cada 3 metros quadrados. A tinta é vendida em latas de 18 litros que custam R$ 80,00 cada. Informe ao usuário a quantidade de latas de tinta a serem compradas e o preço total."
   ]
  },
  {
   "cell_type": "code",
   "execution_count": 15,
   "metadata": {},
   "outputs": [
    {
     "name": "stdout",
     "output_type": "stream",
     "text": [
      "a quantidade de latas é 2 e o valor total é 160\n"
     ]
    }
   ],
   "source": [
    "area_pit = float(input(\"Qual o tamanho da área a ser pintada? (metros quadrados)\"))\n",
    "\n",
    "tinta = area_pit / 3\n",
    "lata = tinta / 18\n",
    "lata = int(lata) if lata == int(lata) else int(lata) + 1\n",
    "\n",
    "\n",
    "preco = lata * 80\n",
    "print(f\"a quantidade de latas é {lata} e o valor total é {preco}\")"
   ]
  }
 ],
 "metadata": {
  "kernelspec": {
   "display_name": "Python 3",
   "language": "python",
   "name": "python3"
  },
  "language_info": {
   "codemirror_mode": {
    "name": "ipython",
    "version": 3
   },
   "file_extension": ".py",
   "mimetype": "text/x-python",
   "name": "python",
   "nbconvert_exporter": "python",
   "pygments_lexer": "ipython3",
   "version": "3.11.5"
  },
  "orig_nbformat": 4
 },
 "nbformat": 4,
 "nbformat_minor": 2
}
