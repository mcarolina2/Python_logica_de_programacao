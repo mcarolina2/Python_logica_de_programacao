{
 "cells": [
  {
   "cell_type": "markdown",
   "metadata": {},
   "source": [
    "### Curso de ciência de dados para negócios -Aula do dia 19/04\n",
    "* nessa aula demos continuidade ao estudo da estrutura de repetição for "
   ]
  },
  {
   "cell_type": "code",
   "execution_count": null,
   "metadata": {},
   "outputs": [],
   "source": [
    "#objetivo da estrutura de repetição é fazer a mesma tarefa varias vezes "
   ]
  },
  {
   "cell_type": "markdown",
   "metadata": {},
   "source": [
    "### String "
   ]
  },
  {
   "cell_type": "code",
   "execution_count": 5,
   "metadata": {},
   "outputs": [
    {
     "name": "stdout",
     "output_type": "stream",
     "text": [
      "coleção: Estou Revisando python, classe: <class 'str'>, total de objetos: 22\n",
      "E\n",
      "s\n",
      "t\n",
      "o\n",
      "u\n",
      " \n",
      "R\n",
      "e\n",
      "v\n",
      "i\n",
      "s\n",
      "a\n",
      "n\n",
      "d\n",
      "o\n",
      " \n",
      "p\n",
      "y\n",
      "t\n",
      "h\n",
      "o\n",
      "n\n"
     ]
    }
   ],
   "source": [
    "# Exemplo: visitar cada objeto com ciclo while\n",
    "dados = \"Estou Revisando python\"\n",
    "print(f\"coleção: {dados}, classe: {type(dados)}, total de objetos: {len(dados)}\")\n",
    "\n",
    "index = 0\n",
    "while index < len(dados):\n",
    "    print(dados[index])\n",
    "    index += 1"
   ]
  },
  {
   "cell_type": "code",
   "execution_count": 3,
   "metadata": {},
   "outputs": [
    {
     "name": "stdout",
     "output_type": "stream",
     "text": [
      "E\n",
      "s\n",
      "t\n",
      "o\n",
      "u\n",
      " \n",
      "e\n",
      "s\n",
      "t\n",
      "u\n",
      "d\n",
      "a\n",
      "n\n",
      "d\n",
      "o\n",
      " \n",
      "p\n",
      "y\n",
      "t\n",
      "h\n",
      "o\n",
      "n\n"
     ]
    }
   ],
   "source": [
    "# Exemplo: visitar cada objeto com ciclo for\n",
    "for item in dados:\n",
    "    print(item)"
   ]
  },
  {
   "cell_type": "markdown",
   "metadata": {},
   "source": [
    "#### Tuplas "
   ]
  },
  {
   "cell_type": "code",
   "execution_count": 6,
   "metadata": {},
   "outputs": [
    {
     "name": "stdout",
     "output_type": "stream",
     "text": [
      "coleção: ('maria', 'joão', 'josé', 'marcos'), classe: <class 'tuple'>, total de objetos: 4\n",
      "maria\n",
      "joão\n",
      "josé\n",
      "marcos\n"
     ]
    }
   ],
   "source": [
    "# Exemplo: visitar cada objeto com ciclo while\n",
    "dados = \"maria\", \"joão\", \"josé\", \"marcos\"\n",
    "print(f\"coleção: {dados}, classe: {type(dados)}, total de objetos: {len(dados)}\")\n",
    "\n",
    "index = 0\n",
    "while index < len(dados):\n",
    "    print(dados[index])\n",
    "    index += 1\n"
   ]
  },
  {
   "cell_type": "code",
   "execution_count": 8,
   "metadata": {},
   "outputs": [
    {
     "name": "stdout",
     "output_type": "stream",
     "text": [
      "maria\n",
      "joão\n",
      "josé\n",
      "marcos\n"
     ]
    }
   ],
   "source": [
    "# Exemplo: visitar cada objeto com ciclo for\n",
    "for item in dados:\n",
    "    print(item)"
   ]
  },
  {
   "cell_type": "markdown",
   "metadata": {},
   "source": [
    "#### Lista"
   ]
  },
  {
   "cell_type": "code",
   "execution_count": 9,
   "metadata": {},
   "outputs": [
    {
     "name": "stdout",
     "output_type": "stream",
     "text": [
      "coleção: [30, -2, 4, 10, 23, 4, 1], classe: <class 'list'>, total de objetos: 7\n",
      "30\n",
      "-2\n",
      "4\n",
      "10\n",
      "23\n",
      "4\n",
      "1\n"
     ]
    }
   ],
   "source": [
    "dados = [30,-2,4,10,23,4,1]\n",
    "print(f\"coleção: {dados}, classe: {type(dados)}, total de objetos: {len(dados)}\")\n",
    "# Exemplo: visitar cada objeto com ciclo while\n",
    "index = 0\n",
    "while index < len(dados):\n",
    "    print(dados[index])\n",
    "    index += 1"
   ]
  },
  {
   "cell_type": "code",
   "execution_count": 11,
   "metadata": {},
   "outputs": [
    {
     "name": "stdout",
     "output_type": "stream",
     "text": [
      "30\n",
      "-2\n",
      "4\n",
      "10\n",
      "23\n",
      "4\n",
      "1\n"
     ]
    }
   ],
   "source": [
    "# Exemplo: visitar cada objeto com ciclo for\n",
    "for item in dados:\n",
    "    print(item)"
   ]
  }
 ],
 "metadata": {
  "kernelspec": {
   "display_name": "base",
   "language": "python",
   "name": "python3"
  },
  "language_info": {
   "codemirror_mode": {
    "name": "ipython",
    "version": 3
   },
   "file_extension": ".py",
   "mimetype": "text/x-python",
   "name": "python",
   "nbconvert_exporter": "python",
   "pygments_lexer": "ipython3",
   "version": "3.11.5"
  }
 },
 "nbformat": 4,
 "nbformat_minor": 2
}
