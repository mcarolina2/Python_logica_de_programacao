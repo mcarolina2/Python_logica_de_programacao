{
 "cells": [
  {
   "cell_type": "markdown",
   "metadata": {},
   "source": [
    "# Exercícios\n",
    "\n",
    "## Estruturas de Dados\n",
    "### Conjuntos\n"
   ]
  },
  {
   "cell_type": "markdown",
   "metadata": {},
   "source": [
    "1.Considere dados representados nas três listas abaixo:\n",
    "\n",
    "-  `[1, 5, 10, 20, 40, 80]`\n",
    "- `[6, 7, 20, 80, 100]`\n",
    "- `[3, 4, 15, 20, 30, 70, 80, 120]`\n",
    "\n",
    "Use coleções de conjuntos e métodos próprios para a partir das listas acima retornar e imprimir uma lista que possua apenas os elementos em comum nas listas acima."
   ]
  },
  {
   "cell_type": "code",
   "execution_count": 3,
   "metadata": {},
   "outputs": [
    {
     "name": "stdout",
     "output_type": "stream",
     "text": [
      "[20, 80]\n"
     ]
    }
   ],
   "source": [
    "a = [1, 5, 10, 20, 40, 80]\n",
    "b = [6, 7, 20, 80, 100] \n",
    "c = [3, 4, 15, 20, 30, 70, 80, 120]\n",
    "\n",
    "conj1 = set(a)\n",
    "conj2 = set(b)\n",
    "conj3 = set(c)\n",
    "\n",
    "intersecao = conj1.intersection(conj2, conj3)\n",
    "\n",
    "lista_intersecao = sorted(list(intersecao))\n",
    "\n",
    "print(lista_intersecao)\n"
   ]
  },
  {
   "cell_type": "markdown",
   "metadata": {},
   "source": [
    "2. Sejam os dados representados abaixo em duas tuplas:\n",
    "\n",
    "- `(10, 15, 20, 25, 30, 35, 40)`\n",
    "- `(25, 40, 35)`\n",
    "\n",
    "Use coleções de conjuntos e métodos próprios para a partir das listas acima retornar e imprimir uma lista que possua apenas os números que não aparecem simultaneamente em ambas as listas."
   ]
  },
  {
   "cell_type": "code",
   "execution_count": 5,
   "metadata": {},
   "outputs": [
    {
     "name": "stdout",
     "output_type": "stream",
     "text": [
      "{10, 20, 30, 15}\n"
     ]
    }
   ],
   "source": [
    "a = {10, 15, 20, 25, 30, 35, 40} \n",
    "b = {25, 40, 35}\n",
    "\n",
    "diferentes = a.difference(b)\n",
    "print(diferentes)"
   ]
  },
  {
   "cell_type": "markdown",
   "metadata": {},
   "source": [
    "3. Escreva uma algoritmo usando ciclo `while` que solicite ao usuário um objeto que deve ser adicionado a um conjunto vazio. Use a opção `q` na função `input` para permitir que o usuário desista. Ao final, imprima o conjunto com todos os elementos."
   ]
  },
  {
   "cell_type": "code",
   "execution_count": 14,
   "metadata": {},
   "outputs": [
    {
     "name": "stdout",
     "output_type": "stream",
     "text": [
      "{'4'}\n",
      "{'4', '5'}\n",
      "{'6', '4', '5'}\n"
     ]
    }
   ],
   "source": [
    "dados = set()\n",
    "while True :\n",
    "    num = input(\"Digite um numero ! ou 'q' para sair\")\n",
    "    if num == \"q\" :\n",
    "            break\n",
    "    dados.add(num)\n",
    "    print(dados)\n",
    "            "
   ]
  },
  {
   "cell_type": "markdown",
   "metadata": {},
   "source": [
    "4. Ainda usando ciclo `while`, escreva um algoritmo com um menu de opções: \n",
    "    - Digite 1 para adicionar um novo objeto ao conjunto\n",
    "    - Digite 2 para remover um objeto do conjunto\n",
    "    - Digite 3 para remover todos os objetos do conjunto\n",
    "    - Digite 4 para sair\n",
    "\n",
    "Dependendo da opção selecionada, use conjuntos e métodos próprios para proceder cada operação. Ao final, imprima o conjunto.\n",
    "Você deve considera o seguinte conjunto inicial de frutas: `{'laranja', 'banana', 'abacaxi'}`."
   ]
  },
  {
   "cell_type": "code",
   "execution_count": 18,
   "metadata": {},
   "outputs": [
    {
     "name": "stdout",
     "output_type": "stream",
     "text": [
      "Saindo do programa...\n",
      "{'manga', 'banana', 'laranja'}\n"
     ]
    }
   ],
   "source": [
    "dados = {'laranja', 'banana', 'abacaxi'}\n",
    "\n",
    "while True:\n",
    "    opcao = input(\"\"\"  \n",
    "    - Digite 1 para adicionar um novo objeto ao conjunto\n",
    "    - Digite 2 para remover um objeto do conjunto\n",
    "    - Digite 3 para remover todos os objetos do conjunto\n",
    "    - Digite 4 para sair\n",
    "        \"\"\") \n",
    "    if opcao == \"1\" :\n",
    "        objeto = input(\"Digite o objeto que deseja adicionar: \")\n",
    "        dados.add(objeto)\n",
    "    elif opcao == \"2\" :\n",
    "        objeto = input(\"Digite o objeto que deseja remover: \")\n",
    "        dados.remove(objeto)\n",
    "    elif opcao == \"3\" :\n",
    "        objeto = input(\"Todos os objetos foram removidos do conjunto.\")\n",
    "        dados.clear(objeto)\n",
    "    else:\n",
    "        print(\"Saindo do programa...\")\n",
    "        break\n",
    "print(dados)\n",
    "    "
   ]
  },
  {
   "cell_type": "markdown",
   "metadata": {
    "vscode": {
     "languageId": "plaintext"
    }
   },
   "source": [
    "5. Gerenciamento de Estoque:\n",
    "\n",
    "Cenário:\n",
    "\n",
    "Imagine que você administra uma pequena loja que vende produtos diversos. Para otimizar o gerenciamento de estoque, você decide implementar um sistema em Python que utilize conjuntos para armazenar as informações dos produtos.\n",
    "\n",
    "Desafio:\n",
    "\n",
    "Crie um programa Python que permita realizar as seguintes operações no seu estoque:\n",
    "\n",
    "Cadastrar produtos:\n",
    "\n",
    "- O programa deve solicitar ao usuário o nome do produto.\n",
    "- Utilize um conjunto para armazenar os produtos cadastrados.\n",
    "\n",
    "Consultar produtos:\n",
    "\n",
    "- O programa deve permitir ao usuário consultar um produto específico.\n",
    "- Utilize a operação de interseção entre conjuntos para verificar se o produto existe no estoque.\n",
    "\n",
    "Vender produtos:\n",
    "\n",
    "- O programa deve permitir ao usuário registrar a venda de um produto.\n",
    "- Utilize a operação de diferença entre conjuntos para atualizar o estoque após a venda.\n",
    "\n",
    "Listar produtos em estoque:\n",
    "\n",
    "O programa deve exibir uma lista completa dos produtos disponíveis no estoque.\n",
    "\n",
    "Utilize a classe set do Python para criar e manipular conjuntos.\n",
    "Utilize mensagens na tela para interagir com o usuário e fornecer informações sobre as operações.\n",
    "Considere adicionar funcionalidades extras, como a opção de remover produtos do estoque.\n"
   ]
  },
  {
   "cell_type": "code",
   "execution_count": 8,
   "metadata": {},
   "outputs": [
    {
     "name": "stdout",
     "output_type": "stream",
     "text": [
      "objetos em estoque:\n",
      "Produto 'mesa' vendido com sucesso!\n",
      "objetos em estoque:\n",
      "- geladeira\n",
      "Saindo do programa...\n"
     ]
    }
   ],
   "source": [
    "estoque = set()\n",
    "\n",
    "while True:\n",
    "    opcao = input(\"\"\"  \n",
    "    - Digite 1 para cadastrar um novo produto\n",
    "    - Digite 2 para consultar o produto cadastrado\n",
    "    - Digite 3 para sinalizar o produto que foi vendido\n",
    "    - Digite 4 para verificar o seu estoque\n",
    "    - Digite 5 para sair\n",
    "        \"\"\")  \n",
    "    \n",
    "    if opcao == \"1\" :\n",
    "        objeto = input(\"Digite o produto que deseja cadastrar: \")\n",
    "        estoque.add(objeto)\n",
    "    elif opcao == \"2\" :\n",
    "        objeto_consulta = input(\"Digite o produto que deseja consultar: \")\n",
    "        if objeto_consulta in estoque:\n",
    "            print(f\"O produto '{objeto_consulta}' está disponível no estoque.\")\n",
    "        else:\n",
    "            print(f\"O produto '{objeto_consulta}' não está disponível no estoque.\")\n",
    "    elif opcao == '3':\n",
    "        objeto_venda = input(\"Digite o produto vendido\")\n",
    "        if objeto_venda in estoque:\n",
    "            estoque.remove(objeto)\n",
    "            print(f\"Produto '{objeto_venda}' vendido com sucesso!\")\n",
    "        else:\n",
    "            print(f\"O produto '{objeto_venda}' não está disponível no estoque para venda.\")\n",
    "    elif opcao == '4':\n",
    "        print(\"objetos em estoque:\")\n",
    "        for produto in estoque:\n",
    "            print(\"-\", produto)\n",
    "    else:\n",
    "        print(\"Saindo do programa...\")\n",
    "        break\n",
    "    "
   ]
  }
 ],
 "metadata": {
  "kernelspec": {
   "display_name": "Python 3",
   "language": "python",
   "name": "python3"
  },
  "language_info": {
   "codemirror_mode": {
    "name": "ipython",
    "version": 3
   },
   "file_extension": ".py",
   "mimetype": "text/x-python",
   "name": "python",
   "nbconvert_exporter": "python",
   "pygments_lexer": "ipython3",
   "version": "3.11.5"
  }
 },
 "nbformat": 4,
 "nbformat_minor": 2
}
