{
 "cells": [
  {
   "cell_type": "markdown",
   "metadata": {},
   "source": [
    "# Exercícios\n",
    "\n",
    "## Introdução à linguagem Python"
   ]
  },
  {
   "cell_type": "markdown",
   "metadata": {},
   "source": [
    "1 - Faça um programa que peça dois números inteiros. Imprima a soma\n",
    "desses dois números na tela."
   ]
  },
  {
   "cell_type": "code",
   "execution_count": null,
   "metadata": {},
   "outputs": [],
   "source": []
  },
  {
   "cell_type": "markdown",
   "metadata": {},
   "source": [
    "2 - Escreva um programa que leia um valor em metros e o exiba convertido em milímetros."
   ]
  },
  {
   "cell_type": "code",
   "execution_count": null,
   "metadata": {},
   "outputs": [],
   "source": []
  },
  {
   "cell_type": "markdown",
   "metadata": {},
   "source": [
    "3 - Escreva um programa que pergunte a quantidade de km percorridos\n",
    "por um carro alugado pelo usuário, assim como a quantidade de dias pelos quais\n",
    "o carro foi alugado. Calcule o preço a pagar, sabendo que o carro custa R$ 60 por dia e R$ 0,15 por km rodado."
   ]
  },
  {
   "cell_type": "code",
   "execution_count": null,
   "metadata": {},
   "outputs": [],
   "source": []
  },
  {
   "cell_type": "markdown",
   "metadata": {},
   "source": [
    "4 - Escreva um programa para calcular a redução do tempo de vida de\n",
    "um fumante. Pergunte a quantidade de cigarros fumados por dia e quantos anos\n",
    "ele já fumou. Considere que um fumante perde 10 minutos de vida a cada cigarro, calcule quantos dias de vida um fumante perderá. Exiba o total em dias."
   ]
  },
  {
   "cell_type": "code",
   "execution_count": null,
   "metadata": {},
   "outputs": [],
   "source": []
  },
  {
   "cell_type": "markdown",
   "metadata": {},
   "source": [
    "5 - Faça um programa que solicite três notas de um aluno. O algoritmo deve processar os dados e imprimir a média aritmética."
   ]
  },
  {
   "cell_type": "code",
   "execution_count": null,
   "metadata": {},
   "outputs": [],
   "source": []
  },
  {
   "cell_type": "markdown",
   "metadata": {},
   "source": [
    "6 - Em matemática financeira, o montante total (M) de uma aplicação (capital) inicial (C) a uma taxa de juros (i) durante n períodos é dado por:\n",
    "  $$ M = C(1+i)^n$$\n",
    "\n",
    "- Por exemplo, imagine que você tenha tomado emprestado 2500 reais do banco.\n",
    "  A taxa do empréstimo é de 1% ao mês e você deve pagá-lo no final do ano.\n",
    "  O valor que você irá pagar será:\n",
    "  $$2500*(1+0,01)^12 = R\\$ 2.817,06.$$\n",
    "  Sendo $R\\$317,06$ reais o valor dos juros.\n",
    "\n",
    "Faça um programa que solicite do usuário o valor inicial que ele pretende aplicar em uma ativo financeiro\n",
    "  que paga uma taxa de juros de $12\\%$ ao ano e pode ser resgatado em 3 anos. \n",
    "  O programa deve processar os dados e imprimir\n",
    "  o montante total que o investidor receberá ao resgatar o ativo."
   ]
  },
  {
   "cell_type": "code",
   "execution_count": null,
   "metadata": {},
   "outputs": [],
   "source": []
  },
  {
   "cell_type": "markdown",
   "metadata": {},
   "source": [
    "7 - Considere a tabela de classificação do Índice de Massa Corportal (IMC):\n",
    "\n",
    "| IMC               | CLASSIFICAÇÃO   | OBESIDADE (GRAU) |\n",
    "| ----------------- | --------------- | ---------------- |\n",
    "| MENOR QUE 18,5    | ABAIXO DO PESO         | 0                |\n",
    "| ENTRE 18,5 E 24,9 | PESO NORMAL          | 0                |\n",
    "| ENTRE 25,0 E 29,9 | SOBREPESO       | I                |\n",
    "| ENTRE 30,0 E 39,9 | OBESIDADE       | II               |\n",
    "| MAIOR QUE 40,0    | OBESIDADE GRAVE | III              |\n",
    "\n",
    "Fórmula matemática para seu cálculo:\n",
    "\n",
    "$$ IMC = peso/(altura)^2 $$\n",
    "\n",
    "- Faça um programa que solicite do usuário o nome, peso e altura. O programa deve processar os dados e imprimir todos os dados do usuário, inclusive o valor do IMC."
   ]
  },
  {
   "cell_type": "code",
   "execution_count": null,
   "metadata": {},
   "outputs": [],
   "source": []
  }
 ],
 "metadata": {
  "kernelspec": {
   "display_name": "Python 3",
   "language": "python",
   "name": "python3"
  },
  "language_info": {
   "name": "python",
   "version": "3.9.0"
  },
  "orig_nbformat": 4
 },
 "nbformat": 4,
 "nbformat_minor": 2
}
