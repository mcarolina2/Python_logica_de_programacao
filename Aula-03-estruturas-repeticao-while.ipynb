{
 "cells": [
  {
   "cell_type": "markdown",
   "metadata": {},
   "source": [
    "# Exercícios\n",
    "\n",
    "## Estruturas de Repetição I\n",
    "### Ciclos do tipo _While_\n"
   ]
  },
  {
   "cell_type": "markdown",
   "metadata": {},
   "source": [
    "1. Escreva um algoritmo que solicite para o usuário digitar três números (um por vez). No final, deve ser apresentada a soma de todos os valores."
   ]
  },
  {
   "cell_type": "code",
   "execution_count": 2,
   "metadata": {},
   "outputs": [
    {
     "name": "stdout",
     "output_type": "stream",
     "text": [
      "A soma das números foi 8\n"
     ]
    }
   ],
   "source": [
    "# Resposta da questão 1\n",
    "contador = 1\n",
    "soma = 0\n",
    "\n",
    "while contador <= 3 :\n",
    "    numero = int(input(f\"Número {contador} para ser somado : \"))\n",
    "\n",
    "    soma += numero\n",
    "\n",
    "    contador += 1\n",
    "\n",
    "print(f'A soma das números foi {soma}')"
   ]
  },
  {
   "cell_type": "markdown",
   "metadata": {},
   "source": [
    "2. Codifique um algoritmo que solicite para o usuário digitar quaisquer quantidades de números (um por vez). Use uma estrutura de controle para fornecer a opção de encerrar a entrada de dados. Ao final, deve ser apresentada a média aritmética de todos os valores."
   ]
  },
  {
   "cell_type": "code",
   "execution_count": 3,
   "metadata": {},
   "outputs": [
    {
     "name": "stdout",
     "output_type": "stream",
     "text": [
      "A média dos números digitados é: 5.5\n"
     ]
    }
   ],
   "source": [
    "# Resposta da questão 2\n",
    "soma = 0\n",
    "contador = 0\n",
    "entrada = None\n",
    "\n",
    "\n",
    "while entrada != 'q':\n",
    "    entrada = input(\"Digite um número ou 'q' para sair: \")\n",
    "    \n",
    "    if entrada == 'q':\n",
    "        break\n",
    "    \n",
    "    \n",
    "    if entrada.replace('.', '', 1).isdigit():\n",
    "        numero = float(entrada)\n",
    "        soma += numero\n",
    "        contador += 1\n",
    "    else:\n",
    "        print(\"Entrada inválida. Por favor, insira um número válido.\")\n",
    "\n",
    "# Verifica se pelo menos um número foi inserido\n",
    "if contador > 0:\n",
    "    \n",
    "    media = soma / contador\n",
    "    print(f\"A média dos números digitados é: {media}\")\n",
    "else:\n",
    "    print(\"Nenhum número foi digitado.\")\n",
    "\n",
    "   "
   ]
  },
  {
   "cell_type": "markdown",
   "metadata": {},
   "source": [
    "3. Escreva um algoritmo para um jogo de adivinhação. Solicite que o usuário digite um número entre 0 e 100. Na primeira tentativa, se não for a correta, imprima uma mensagem afirmando que seu palpite está \"quente\". Para todas as demais tentativas, imprima \"quente\" se o novo número informado for estritamente próximo do número secreto e \"frio\" caso contrário. Continue solicitando para ele informar um novo número até que o número secreto seja informado."
   ]
  },
  {
   "cell_type": "code",
   "execution_count": null,
   "metadata": {},
   "outputs": [
    {
     "name": "stdout",
     "output_type": "stream",
     "text": [
      "Bem-vindo ao jogo de adivinhação!\n",
      "Quente!\n",
      "Quente!\n",
      "Quente!\n",
      "Parabéns! Você acertou o número secreto: 5\n"
     ]
    }
   ],
   "source": [
    "# Resposta da questão 3 \n",
    "numero_secreto = int(input(\"Informe o número secreto (entre 0 e 100): \"))\n",
    "\n",
    "print(\"Bem-vindo ao jogo de adivinhação!\")\n",
    "\n",
    "\n",
    "while True:\n",
    "\n",
    "    palpite = int(input(\"Adivinhe o número secreto (entre 0 e 100): \"))\n",
    "    \n",
    "    \n",
    "    if palpite == numero_secreto:\n",
    "        print(\"Parabéns! Você acertou o número secreto:\", numero_secreto)\n",
    "        break  \n",
    "    else:\n",
    "        \n",
    "        if abs(palpite - numero_secreto) < 10:\n",
    "            print(\"Quente!\")  \n",
    "        else:\n",
    "            print(\"Frio!\")  "
   ]
  },
  {
   "cell_type": "markdown",
   "metadata": {},
   "source": [
    "4. Elabore um algoritmo que solicite para o usuário digitar quaisquer quantidades de números (um por vez). Use uma estrutura de controle para fornecer a opção de encerrar a entrada de dados. Ao final, deve ser apresentado o produto acumulado de todos os valores pares e a soma acumulada de todos os valores ímpares."
   ]
  },
  {
   "cell_type": "code",
   "execution_count": null,
   "metadata": {},
   "outputs": [
    {
     "name": "stdout",
     "output_type": "stream",
     "text": [
      "Produto acumulado dos números pares: 1\n",
      "Soma acumulada dos números ímpares: 7\n"
     ]
    }
   ],
   "source": [
    "# Resposta da questão 4 \n",
    "\n",
    "soma_impares = 0\n",
    "produto_pares = 1\n",
    "\n",
    "# Loop para entrada de dados\n",
    "while True:\n",
    "    entradas = input(\"Digite um número (ou -1 para encerrar): \")\n",
    "    \n",
    "  \n",
    "    if entradas == '-1':\n",
    "        break\n",
    "    \n",
    "    \n",
    "    numero = int(entradas)\n",
    "    \n",
    "\n",
    "    if numero % 2 == 0:\n",
    "        produto_pares *= numero\n",
    "    else:\n",
    "        soma_impares += numero\n",
    "\n",
    "\n",
    "print(\"Produto acumulado dos números pares:\", produto_pares)\n",
    "print(\"Soma acumulada dos números ímpares:\", soma_impares)"
   ]
  },
  {
   "cell_type": "markdown",
   "metadata": {},
   "source": [
    "5. Escreva um algoritmo que pergunte o depósito inicial e a taxa de juros de uma poupança. Exiba os valores mês a mês para os 24 primeiros meses (considere juros compostos). Escreva o total ganho com juros no período."
   ]
  },
  {
   "cell_type": "code",
   "execution_count": null,
   "metadata": {},
   "outputs": [],
   "source": [
    "# Resposta da questão 5\n",
    "deposito_inicial = float(input(\"Digite o depósito inicial: \"))\n",
    "taxa_juros = float(input(\"Digite a taxa de juros (em %): \")) / 100\n",
    "\n",
    "\n",
    "saldo = deposito_inicial\n",
    "total_juros = 0\n",
    "mes = 1\n",
    "\n",
    "print(\"\\nMês\\tSaldo\")\n",
    "\n",
    "while mes <= 24:\n",
    "    saldo *= (1 + taxa_juros)\n",
    "    \n",
    "    \n",
    "    total_juros += saldo - deposito_inicial\n",
    "    print(f\"{mes}\\t{saldo:.2f}\")\n",
    "    \n",
    "    \n",
    "    mes += 1\n",
    "\n",
    "\n",
    "print(\"\\nTotal ganho com juros nos 24 meses:\", total_juros)"
   ]
  },
  {
   "cell_type": "markdown",
   "metadata": {},
   "source": [
    "6. Altere o programa anterior (questão 5) de forma a perguntar também o valor depositado mensalmente. Esse valor será depositado no início de cada mês, e você deve considerá-lo para o cálculo de juros do mês seguinte."
   ]
  },
  {
   "cell_type": "code",
   "execution_count": null,
   "metadata": {},
   "outputs": [
    {
     "name": "stdout",
     "output_type": "stream",
     "text": [
      "\n",
      "Mês\tSaldo\n",
      "1\t1236.00\n",
      "2\t1479.08\n",
      "3\t1729.45\n",
      "4\t1987.34\n",
      "5\t2252.96\n",
      "6\t2526.54\n",
      "7\t2808.34\n",
      "8\t3098.59\n",
      "9\t3397.55\n",
      "10\t3705.48\n",
      "11\t4022.64\n",
      "12\t4349.32\n",
      "13\t4685.80\n",
      "14\t5032.37\n",
      "15\t5389.34\n",
      "16\t5757.02\n",
      "17\t6135.73\n",
      "18\t6525.81\n",
      "19\t6927.58\n",
      "20\t7341.41\n",
      "21\t7767.65\n",
      "22\t8206.68\n",
      "23\t8658.88\n",
      "24\t9124.65\n",
      "\n",
      "Total ganho com juros nos 24 meses: 85346.21266488302\n"
     ]
    }
   ],
   "source": [
    "# Resposta da questão 6\n",
    "\n",
    "deposito_inicial = float(input(\"Digite o depósito inicial: \"))\n",
    "valor_mensal = float(input(\"Digite o valor depositado mensalmente: \"))\n",
    "taxa_juros = float(input(\"Digite a taxa de juros (em %): \")) / 100\n",
    "\n",
    "\n",
    "saldo = deposito_inicial\n",
    "total_juros = 0\n",
    "\n",
    "print(\"\\nMês\\tSaldo\")\n",
    "\n",
    "mes = 1\n",
    "while mes <= 24:\n",
    "    \n",
    "    saldo += valor_mensal\n",
    "    \n",
    "    saldo *= (1 + taxa_juros)\n",
    "    \n",
    "    total_juros += saldo - deposito_inicial - valor_mensal\n",
    "    \n",
    "    print(f\"{mes}\\t{saldo:.2f}\")\n",
    "    \n",
    "    mes += 1\n",
    "\n",
    "\n",
    "print(\"\\nTotal ganho com juros nos 24 meses:\", total_juros)\n"
   ]
  },
  {
   "cell_type": "markdown",
   "metadata": {},
   "source": [
    "7. Escreva um programa que pergunte o valor inicial de uma dívida e a taxa de juros mensal. Pergunte também o valor mensal que será pago. Imprima o número de meses para que a dívida seja paga, o total pago e o total de juros pago (considere juros compostos)."
   ]
  },
  {
   "cell_type": "code",
   "execution_count": null,
   "metadata": {},
   "outputs": [
    {
     "name": "stdout",
     "output_type": "stream",
     "text": [
      "Número de meses para pagar a dívida: 9\n",
      "Total pago: R$ 4500.00\n",
      "Total de juros pagos: R$ 90.00\n"
     ]
    }
   ],
   "source": [
    "# Resposta da questão 7\n",
    "\n",
    "divida_inicial = float(input(\"Digite o valor inicial da dívida: \"))\n",
    "taxa_juros_mensal = float(input(\"Digite a taxa de juros mensal (em %): \")) / 100\n",
    "valor_pago_mensal = float(input(\"Digite o valor mensal que será pago: \"))\n",
    "\n",
    "\n",
    "total_pago = 0\n",
    "total_juros_pago = 0\n",
    "meses = 0\n",
    "\n",
    "\n",
    "while divida_inicial > 0:\n",
    "    \n",
    "    divida_inicial *= (1 + taxa_juros_mensal)\n",
    "    \n",
    "    divida_inicial -= valor_pago_mensal\n",
    "    \n",
    "    \n",
    "    total_pago += valor_pago_mensal\n",
    "    total_juros_pago += valor_pago_mensal * taxa_juros_mensal\n",
    "    \n",
    "    meses += 1\n",
    "\n",
    "\n",
    "print(f\"Número de meses para pagar a dívida: {meses}\")\n",
    "print(f\"Total pago: R$ {total_pago:.2f}\")\n",
    "print(f\"Total de juros pagos: R$ {total_juros_pago:.2f}\")\n"
   ]
  },
  {
   "cell_type": "markdown",
   "metadata": {},
   "source": [
    "8. Escreva um programa que calcule o resto da divisão inteira entre dois números. Utilize apenas as operações de soma e subtração para calcular o resultado."
   ]
  },
  {
   "cell_type": "code",
   "execution_count": null,
   "metadata": {},
   "outputs": [
    {
     "name": "stdout",
     "output_type": "stream",
     "text": [
      "O resto da divisão inteira é: 0\n"
     ]
    }
   ],
   "source": [
    "# Resposta da questão  8 \n",
    "\n",
    "dividendo = int(input(\"Digite o dividendo (número a ser dividido): \"))\n",
    "divisor = int(input(\"Digite o divisor (número pelo qual dividir): \"))\n",
    "\n",
    "resto = dividendo\n",
    "\n",
    "while resto >= divisor:\n",
    "    resto -= divisor\n",
    "\n",
    "\n",
    "print(\"O resto da divisão inteira é:\", resto)"
   ]
  },
  {
   "cell_type": "markdown",
   "metadata": {},
   "source": [
    "9. Escreva um programa que leia um número e verifique se é ou não um número primo. Para fazer essa verificação, calcule o resto da divisão do número por 2 e depois por todos os números ímpares até o número lido. Se o resto de uma dessas divisões for igual a zero, o número não é primo. Observe que 0 e 1 não são primos e que 2 é o único número primo que é par."
   ]
  },
  {
   "cell_type": "code",
   "execution_count": null,
   "metadata": {},
   "outputs": [
    {
     "name": "stdout",
     "output_type": "stream",
     "text": [
      "7 é um número primo.\n"
     ]
    }
   ],
   "source": [
    "# Resposta da questão 9\n",
    "\n",
    "numero = int(input(\"Digite um número: \"))\n",
    "\n",
    "\n",
    "if numero < 2:\n",
    "    eh_primo = False\n",
    "elif numero == 2:\n",
    "    eh_primo = True\n",
    "elif numero % 2 == 0:\n",
    "    eh_primo = False\n",
    "else:\n",
    "    eh_primo = True\n",
    "    \n",
    "    limite = int(numero ** 0.5) + 1\n",
    "    for i in range(3, limite, 2):\n",
    "        if numero % i == 0:\n",
    "            eh_primo = False\n",
    "            break\n",
    "\n",
    "if eh_primo:\n",
    "    print(numero, \"é um número primo.\")\n",
    "else:\n",
    "    print(numero, \"não é um número primo.\")\n"
   ]
  },
  {
   "cell_type": "markdown",
   "metadata": {},
   "source": [
    "10. Escreva um programa que calcule a raiz quadrada de um número. Utilize o método de Newton para obter um resultado aproximado. Sendo n o número a obter a raiz quadrada, considere a base $b=2$. Calcule $p$ usando a fórmula: $p=(b+(n/b))/2$. \n",
    "Agora, calcule o quadrado de $p$. A cada passo, faça $b=p$ e recalcule $p$ usando a fórmula apresentada. Pare quando a diferença absoluta entre n e o quadrado de p for menor que 0,0001."
   ]
  },
  {
   "cell_type": "code",
   "execution_count": null,
   "metadata": {},
   "outputs": [
    {
     "name": "stdout",
     "output_type": "stream",
     "text": [
      "A raiz quadrada de 16.0 é aproximadamente 4.0000\n"
     ]
    }
   ],
   "source": [
    "# Resposta da questão 10\n",
    "\n",
    "numero = float(input(\"Digite um número para calcular a raiz quadrada: \"))\n",
    "\n",
    "\n",
    "b = 2  \n",
    "\n",
    "\n",
    "while True:\n",
    "    p = (b + (numero / b)) / 2  \n",
    "    if abs(numero - p**2) < 0.0001:  \n",
    "        resultado = p  \n",
    "        break  \n",
    "    b = p  \n",
    "\n",
    "\n",
    "print(f\"A raiz quadrada de {numero} é aproximadamente {resultado:.4f}\")\n"
   ]
  }
 ],
 "metadata": {
  "kernelspec": {
   "display_name": "Python 3",
   "language": "python",
   "name": "python3"
  },
  "language_info": {
   "codemirror_mode": {
    "name": "ipython",
    "version": 3
   },
   "file_extension": ".py",
   "mimetype": "text/x-python",
   "name": "python",
   "nbconvert_exporter": "python",
   "pygments_lexer": "ipython3",
   "version": "3.11.5"
  },
  "orig_nbformat": 4
 },
 "nbformat": 4,
 "nbformat_minor": 2
}
